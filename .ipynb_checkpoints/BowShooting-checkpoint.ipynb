{
 "cells": [
  {
   "cell_type": "markdown",
   "id": "7c0e23d3",
   "metadata": {},
   "source": [
    "I want to store the bowshooting practice results for future evaluation\n",
    "\n",
    "For the time being I just create a dictionary to write to csv regularly\n"
   ]
  },
  {
   "cell_type": "code",
   "execution_count": 1,
   "id": "f28a8a7d",
   "metadata": {},
   "outputs": [],
   "source": [
    "import csv\n",
    "\n",
    "fields = ['date', 'bowtype', \\\n",
    "          'r01', 'r02', 'r03', 'r04', 'r05', 'r06', 'r07', 'r08', 'r09', 'r10', \\\n",
    "          'r11', 'r12', 'r13', 'r14', 'r15', 'r16', 'r17', 'r18', 'r19', 'r20' ]\n",
    "\n",
    "log = [{'date': '2024-01-04', 'bowtype': 'tradi', \\\n",
    "        'r01': 20, 'r02': 15, 'r03': 14, 'r04': 22, 'r05': 22, 'r06': 21, 'r07': 23, 'r08': 24, 'r09': 22, 'r10': 12, \\\n",
    "        'r11': 26, 'r12': 19, 'r13': 15, 'r14': 22, 'r15': 25, 'r16': 21, 'r17': 19, 'r18': 23, 'r19': 20, 'r20': 24 },\\\n",
    "      {'date': '2024-01-05', 'bowtype': 'tradi', \\\n",
    "        'r01': 25, 'r02': 24, 'r03': 23, 'r04': 15, 'r05': 24, 'r06': 22, 'r07': 21, 'r08': 27, 'r09': 23, 'r10': 20, \\\n",
    "        'r11': 13, 'r12': 13, 'r13': 21, 'r14': 21, 'r15': 21, 'r16': 24, 'r17': 20, 'r18': 24, 'r19': 21, 'r20': 23 },\\\n",
    "      {'date': '2024-01-06', 'bowtype': 'tradi', \\\n",
    "        'r01': 24, 'r02': 25, 'r03': 20, 'r04': 20, 'r05': 19, 'r06': 20, 'r07': 14, 'r08': 20, 'r09': 20, 'r10': 19, \\\n",
    "        'r11': 20, 'r12': 19, 'r13': 20, 'r14': 26, 'r15': 15, 'r16': 20, 'r17': 20, 'r18': 22, 'r19': 23, 'r20': 24 }]\n",
    "\n",
    "with open('shooting_log.csv', 'w', newline='') as shooting_log:\n",
    "    writer = csv.DictWriter(shooting_log, fieldnames = fields)\n",
    "    writer.writeheader()\n",
    "    writer.writerows(log)\n"
   ]
  },
  {
   "cell_type": "code",
   "execution_count": 2,
   "id": "4e833a0d",
   "metadata": {},
   "outputs": [
    {
     "name": "stdout",
     "output_type": "stream",
     "text": [
      "         date  total    pct\n",
      "0  2024-01-04    409  68.17\n",
      "1  2024-01-05    425  70.83\n",
      "2  2024-01-06    410  68.33\n"
     ]
    }
   ],
   "source": [
    "import pandas as pd\n",
    "\n",
    "all_data = pd.read_csv('shooting_log.csv')\n",
    "list_to_sum = ['r01', 'r02', 'r03', 'r04', 'r05', 'r06', 'r07', 'r08', 'r09', 'r10', \\\n",
    "          'r11', 'r12', 'r13', 'r14', 'r15', 'r16', 'r17', 'r18', 'r19', 'r20' ]\n",
    "\n",
    "all_data['total'] = all_data[list_to_sum].sum(axis=1)\n",
    "all_data['pct'] = round(all_data.total / 600 * 100, 2)\n",
    "\n",
    "tradi_details = all_data[all_data.bowtype == 'tradi']\n",
    "tradi_totals = all_data[['date', 'total', 'pct']]\n",
    "\n",
    "print(tradi_totals)"
   ]
  }
 ],
 "metadata": {
  "kernelspec": {
   "display_name": "Python 3 (ipykernel)",
   "language": "python",
   "name": "python3"
  },
  "language_info": {
   "codemirror_mode": {
    "name": "ipython",
    "version": 3
   },
   "file_extension": ".py",
   "mimetype": "text/x-python",
   "name": "python",
   "nbconvert_exporter": "python",
   "pygments_lexer": "ipython3",
   "version": "3.11.5"
  }
 },
 "nbformat": 4,
 "nbformat_minor": 5
}
