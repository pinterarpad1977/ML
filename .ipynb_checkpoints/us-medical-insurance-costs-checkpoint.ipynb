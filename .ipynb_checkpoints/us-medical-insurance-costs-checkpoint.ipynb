{
 "cells": [
  {
   "cell_type": "markdown",
   "metadata": {},
   "source": [
    "# U.S. Medical Insurance Costs"
   ]
  },
  {
   "cell_type": "markdown",
   "metadata": {},
   "source": [
    "CSV structure:\n",
    "\n",
    "{'age': '19', 'sex': 'female', 'bmi': '27.9', 'children': '0', 'smoker': 'yes', 'region': 'southwest', 'charges': '16884.924'}\n",
    "{'age': '18', 'sex': 'male', 'bmi': '33.77', 'children': '1', 'smoker': 'no', 'region': 'southeast', 'charges': '1725.5523'}\n",
    "\n",
    "Some possible ideas for analysis are the following:\n",
    "- Find out the average age of the patients in the dataset.\n",
    "- Analyze where a majority of the individuals are from.\n",
    "- Look at the different costs between smokers vs. non-smokers.\n",
    "- Figure out what the average age is for someone who has at least one child in this dataset."
   ]
  },
  {
   "cell_type": "code",
   "execution_count": 104,
   "metadata": {},
   "outputs": [
    {
     "name": "stdout",
     "output_type": "stream",
     "text": [
      "{}\n"
     ]
    }
   ],
   "source": [
    "# this function will provide a list as a slicer for categorical data\n",
    "def slicer(reader_obj, category):\n",
    "    agg = []\n",
    "    for row in reader_obj:\n",
    "        if not (row[category] in agg):\n",
    "            agg.append(row[category])\n",
    "    return agg\n",
    "\n",
    "def counts(reader_obj, agg_key):\n",
    "    categories = slicer(reader_obj, agg_key)\n",
    "    cat_dict = {}\n",
    "    agg_dict = {}\n",
    "        \n",
    "    for cat in categories:\n",
    "        population = 0\n",
    "        total_kids = 0\n",
    "        total_age = 0\n",
    "        total_charge = 0\n",
    "        \n",
    "        for row in reader_obj:\n",
    "            #if row[agg_key] != cat:\n",
    "            #    print(agg_key)\n",
    "            #else:\n",
    "            population += 1\n",
    "            total_kids += int(row['children'])\n",
    "            total_age += int(row['age'])\n",
    "            total_charge += float(row['charges'])\n",
    "        cat_dict = {'population': population, 'sum children': total_kids, 'total cost': total_charge}\n",
    "            \n",
    "            #avg_kids = round(total_kids / population,1)\n",
    "            #avg_age = round(total_age / population, 1)\n",
    "            #avg_charge = round(total_charge / population,2)\n",
    "            \n",
    "    agg_dict[cat] = cat_dict\n",
    "    return cat_dict\n",
    "\n",
    "import csv\n",
    "with open('insurance.csv') as insurance_csv:\n",
    "    insurance_data = csv.DictReader(insurance_csv)\n",
    "    \n",
    "    print(counts(insurance_data, \"region\"))\n",
    "    \n",
    "\n",
    "    \n",
    "    "
   ]
  }
 ],
 "metadata": {
  "kernelspec": {
   "display_name": "Python 3 (ipykernel)",
   "language": "python",
   "name": "python3"
  },
  "language_info": {
   "codemirror_mode": {
    "name": "ipython",
    "version": 3
   },
   "file_extension": ".py",
   "mimetype": "text/x-python",
   "name": "python",
   "nbconvert_exporter": "python",
   "pygments_lexer": "ipython3",
   "version": "3.11.5"
  }
 },
 "nbformat": 4,
 "nbformat_minor": 4
}
