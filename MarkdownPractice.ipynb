{
 "cells": [
  {
   "cell_type": "markdown",
   "id": "3c2f1bac",
   "metadata": {},
   "source": [
    "# Heading 1\n",
    "## Heading 2\n",
    "The number of #s will define the heading size, there are 6 levels\n",
    "\n",
    "3 stars gives a horizontal line\n",
    "***\n",
    "double stars or dunderscores at both ends will make text **bold**\n",
    "one * or one _ at both ends will make it _italic_\n",
    "create `monospace` text to denote code with backticks (AltGr + 6)\n",
    "\n",
    "### Lists\n",
    "Unordered lists are created by (-) or ( * ) + space\n",
    "Sub bullet is created by tab + (-) or ( * ) + space\n",
    "- bullet point 1\n",
    "- bullet point 2\n",
    "    - sub bullet point\n",
    "\n",
    "Numbered lists can be created by number + (.)\n",
    "Sub items can be added similarly\n",
    "1. First category\n",
    "    1. first subcategory\n",
    "    2. second subcategory\n",
    "\n",
    "\n",
    "### Basic Commands\n",
    "- Basic navigation: Enter, Shift-Enter, Up/k, Down/j.\n",
    "- Saving the notebook: s.\n",
    "- Change Cell types: m to change the current cell to Markdown, y to change it back to code.\n",
    "- Cell creation: a to insert a new cell above the current cell, b to insert a new cell below.\n",
    "- Cell editing: x, c, v, d, z\n",
    "- Delete Current Cell: d + d (press the key twice).\n",
    "- Kernel operations: i, 0 (press twice).\n",
    "- Split the current cell into two: Ctrl + Shift + -.\n",
    "- Find and replace on your code: Esc + f\n",
    "- Toggle cell output: Esc + O"
   ]
  },
  {
   "cell_type": "code",
   "execution_count": null,
   "id": "8131f322",
   "metadata": {},
   "outputs": [],
   "source": []
  }
 ],
 "metadata": {
  "kernelspec": {
   "display_name": "Python 3 (ipykernel)",
   "language": "python",
   "name": "python3"
  },
  "language_info": {
   "codemirror_mode": {
    "name": "ipython",
    "version": 3
   },
   "file_extension": ".py",
   "mimetype": "text/x-python",
   "name": "python",
   "nbconvert_exporter": "python",
   "pygments_lexer": "ipython3",
   "version": "3.11.5"
  }
 },
 "nbformat": 4,
 "nbformat_minor": 5
}
